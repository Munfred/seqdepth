{
 "cells": [
  {
   "cell_type": "markdown",
   "metadata": {},
   "source": [
    "### Piecewise linear models with pystan\n",
    "\n",
    "Based on the following tutorial from Jan Vanhove: \\\n",
    "https://janhove.github.io/analysis/2018/07/04/bayesian-breakpoint-model\n",
    "\n",
    "Useful reference when going between rstan and pystan: \\\n",
    "https://pystan.readthedocs.io/en/latest/differences_pystan_rstan.html"
   ]
  },
  {
   "cell_type": "code",
   "execution_count": null,
   "metadata": {},
   "outputs": [],
   "source": [
    "import numpy as np\n",
    "import pandas as pd\n",
    "import pystan as ps\n",
    "import statsmodels.formula.api as smf\n",
    "import matplotlib.pyplot as plt\n",
    "import plotly.express as px\n",
    "import glob\n",
    "import arviz\n",
    "%matplotlib inline\n",
    "\n",
    "pd.set_option('display.max_columns', None)  \n"
   ]
  },
  {
   "cell_type": "code",
   "execution_count": null,
   "metadata": {},
   "outputs": [],
   "source": [
    "# load the 10xv3 results with 30x sampling for each cell/depth combination\n",
    "dfs={}\n",
    "for item in glob.glob('./10xv3_final_summaries/*'):\n",
    "    dfs[item.split('/')[2].split('-final_summary.csv')[0]] = pd.read_csv(item).sort_values([\"sampled_cells\", \"total_UMIs\"], ascending = (True, True))"
   ]
  },
  {
   "cell_type": "code",
   "execution_count": null,
   "metadata": {},
   "outputs": [],
   "source": [
    "df = dfs['10x_genomics_data-pbmc_1k_v3'][dfs['10x_genomics_data-pbmc_1k_v3']['sampled_cells']==999].copy()\n",
    "df"
   ]
  },
  {
   "cell_type": "raw",
   "metadata": {},
   "source": [
    "# this block is useful for looking at the standard deviation of the validation_error to start with reasonable priors in stan\n",
    "for x in dfs:\n",
    "    thisdf=dfs[x]\n",
    "    print(x)\n",
    "    print(dfs[x].shape)\n",
    "    potato = pd.DataFrame()\n",
    "#     print(dfs[x].estimated_UMIs.unique())\n",
    "    for item in dfs[x].estimated_UMIs.unique():\n",
    "#         print(item)\n",
    "\n",
    "        umis =  thisdf[thisdf['estimated_UMIs']==item]['UMIs_per_cell'].iloc[0]\n",
    "        cells = thisdf[thisdf['estimated_UMIs']==item]['sampled_cells'].iloc[0]\n",
    "#         print(umis, cells)\n",
    "#         print(thisdf)\n",
    "        potato[str(umis)+'-'+str(cells)+'c']=(thisdf[thisdf['estimated_UMIs']==item]['validation_error'].describe())\n",
    "    display(potato.astype(int))\n"
   ]
  },
  {
   "cell_type": "code",
   "execution_count": null,
   "metadata": {},
   "outputs": [],
   "source": [
    "df.plot.scatter('UMIs_per_cell', 'validation_error', alpha = 0.1)\n",
    "plt.show()"
   ]
  },
  {
   "cell_type": "code",
   "execution_count": null,
   "metadata": {},
   "outputs": [],
   "source": [
    "stan_model = ps.StanModel(file=\"seqdepth_piecewise_v1.stan\", \n",
    "                          model_name = \"seqdepth_piecewise_v1\")\n"
   ]
  },
  {
   "cell_type": "code",
   "execution_count": null,
   "metadata": {},
   "outputs": [],
   "source": [
    "\n",
    "data_dict = {\"umis_per_cell\": np.log(df[\"UMIs_per_cell\"]), \"validation_error\": np.log(df[\"validation_error\"]), \"N\": len(df)}\n",
    "stan_fit = stan_model.sampling(data=data_dict,\n",
    "                               iter=4000,\n",
    "                              control={'adapt_delta':1})"
   ]
  },
  {
   "cell_type": "code",
   "execution_count": null,
   "metadata": {},
   "outputs": [],
   "source": [
    "s = stan_fit.summary()\n",
    "summary = pd.DataFrame(s['summary'], columns=s['summary_colnames'], index=s['summary_rownames'])\n",
    "summary"
   ]
  },
  {
   "cell_type": "code",
   "execution_count": null,
   "metadata": {},
   "outputs": [],
   "source": [
    "arviz.plot_trace(stan_fit,['slope_before','slope_after','intercept','bp','before_variance','after_variance','slope_ratio'])\n",
    "plt.show()"
   ]
  },
  {
   "cell_type": "code",
   "execution_count": null,
   "metadata": {},
   "outputs": [],
   "source": [
    "stan_fit.to_dataframe()"
   ]
  },
  {
   "cell_type": "code",
   "execution_count": null,
   "metadata": {},
   "outputs": [],
   "source": [
    "stan_fit.traceplot()"
   ]
  },
  {
   "cell_type": "code",
   "execution_count": null,
   "metadata": {},
   "outputs": [],
   "source": [
    "dope = stan_fit.extract()\n"
   ]
  },
  {
   "cell_type": "code",
   "execution_count": null,
   "metadata": {},
   "outputs": [],
   "source": [
    "dope.keys()"
   ]
  },
  {
   "cell_type": "code",
   "execution_count": null,
   "metadata": {},
   "outputs": [],
   "source": [
    "for thing in ['slope_before','slope_after','intercept','bp','before_variance','after_variance']:\n",
    "    print(thing,np.std(dope[thing]))\n",
    "    plt.hist(dope[thing], bins = 100)\n",
    "    plt.title(thing)\n",
    "    plt.show()"
   ]
  },
  {
   "cell_type": "code",
   "execution_count": null,
   "metadata": {},
   "outputs": [],
   "source": [
    "plt.figure(num=None, figsize=(16, 9), dpi=80, facecolor='w', edgecolor='k')\n",
    "plt.ylim(5, 9)\n",
    "plt.xlim(6, 11)\n",
    "nlines = 8000\n",
    "for intercept,slope,breakpoint in zip(dope['intercept'][0:nlines],dope['slope_before'][0:nlines],dope['bp'][0:nlines]):\n",
    "    axes = plt.gca()\n",
    "    x_vals = np.array(axes.get_xlim())\n",
    "    x_vals[1]=breakpoint\n",
    "    y_vals = intercept + slope * (x_vals-breakpoint)\n",
    "    plt.plot(x_vals, y_vals, '--', color = 'red', alpha = 0.01)\n",
    "    \n",
    "for intercept,slope,breakpoint in zip(dope['intercept'][0:nlines],dope['slope_after'][0:nlines],dope['bp'][0:nlines]):\n",
    "    axes = plt.gca()\n",
    "    x_vals = np.array(axes.get_xlim())\n",
    "    x_vals[0]=breakpoint\n",
    "    y_vals = intercept + slope * (x_vals-breakpoint)\n",
    "    plt.plot(x_vals, y_vals, '-', color='green', alpha = 0.01)\n",
    "    plt.axvline(x=breakpoint,linestyle='-',color='black', alpha =0.01)\n",
    "    plt.scatter(breakpoint,intercept, color = 'black', alpha = 0.1, s =10)\n",
    "    \n",
    "# plt.scatter(df['UMIs_per_cell'],df['validation_error'], alpha = 0.25)\n",
    "plt.scatter(np.log(df[\"UMIs_per_cell\"]),  np.log(df[\"validation_error\"]), alpha = 0.25)\n",
    "\n",
    "plt.title('Piecewise model with breakpoint '+ str(nlines)+' lines')\n",
    "plt.show()\n"
   ]
  },
  {
   "cell_type": "code",
   "execution_count": null,
   "metadata": {},
   "outputs": [],
   "source": [
    "summary.head(6)"
   ]
  },
  {
   "cell_type": "code",
   "execution_count": null,
   "metadata": {},
   "outputs": [],
   "source": []
  }
 ],
 "metadata": {
  "kernelspec": {
   "display_name": "Python 3",
   "language": "python",
   "name": "python3"
  },
  "language_info": {
   "codemirror_mode": {
    "name": "ipython",
    "version": 3
   },
   "file_extension": ".py",
   "mimetype": "text/x-python",
   "name": "python",
   "nbconvert_exporter": "python",
   "pygments_lexer": "ipython3"
  }
 },
 "nbformat": 4,
 "nbformat_minor": 4
}
