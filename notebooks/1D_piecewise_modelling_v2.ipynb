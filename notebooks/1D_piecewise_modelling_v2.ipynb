{
 "cells": [
  {
   "cell_type": "markdown",
   "metadata": {},
   "source": [
    "### Piecewise linear models with pystan\n",
    "\n",
    "Based on the following tutorial from Jan Vanhove: \\\n",
    "https://janhove.github.io/analysis/2018/07/04/bayesian-breakpoint-model\n",
    "\n",
    "Useful reference when going between rstan and pystan: \\\n",
    "https://pystan.readthedocs.io/en/latest/differences_pystan_rstan.html"
   ]
  },
  {
   "cell_type": "code",
   "execution_count": null,
   "metadata": {},
   "outputs": [],
   "source": [
    "import numpy as np\n",
    "import pandas as pd\n",
    "import pystan as ps\n",
    "import statsmodels.formula.api as smf\n",
    "import matplotlib.pyplot as plt\n",
    "import plotly.express as px\n",
    "import glob\n",
    "import arviz\n",
    "%matplotlib inline\n",
    "import tqdm\n",
    "import matplotlib\n",
    "pd.set_option('display.max_columns', None)  \n",
    "# Customize matplotlib\n",
    "matplotlib.rcParams['font.family'] = 'monospace'\n",
    "matplotlib.rcParams['font.sans-serif'] = ['Ubuntu']"
   ]
  },
  {
   "cell_type": "code",
   "execution_count": null,
   "metadata": {},
   "outputs": [],
   "source": [
    "# load the 10xv3 results with 30x sampling for each cell/depth combination\n",
    "dfs={}\n",
    "for item in glob.glob('./10xv3_final_summaries/*'):\n",
    "    dfs[item.split('/')[2].split('-final_summary.csv')[0]] = pd.read_csv(item).sort_values([\"sampled_cells\", \"total_UMIs\"], ascending = (True, True))"
   ]
  },
  {
   "cell_type": "code",
   "execution_count": null,
   "metadata": {},
   "outputs": [],
   "source": [
    "stan_model = ps.StanModel(file=\"seqdepth_piecewise_v2.stan\", \n",
    "                          model_name = \"seqdepth_piecewise_v2\")\n"
   ]
  },
  {
   "cell_type": "code",
   "execution_count": null,
   "metadata": {},
   "outputs": [],
   "source": [
    "pd.set_option('display.max_colwidth', None)\n",
    "pd.set_option('display.expand_frame_repr', False)\n"
   ]
  },
  {
   "cell_type": "code",
   "execution_count": null,
   "metadata": {},
   "outputs": [],
   "source": [
    "results={}\n",
    "for dataset in dfs:\n",
    "    print(dataset)\n",
    "    ddf = dfs[dataset]\n",
    "    results[dataset]={}\n",
    "    for ncells in ddf.sampled_cells.unique():\n",
    "        print(dataset, ncells)\n",
    "        df=ddf[ddf['sampled_cells']==ncells]\n",
    "        data_dict = {\"umis_per_cell\": np.log2(df[\"UMIs_per_cell\"]), \"validation_error\": np.log2(df[\"validation_error\"]), \"N\": len(df)}\n",
    "        stan_fit = stan_model.sampling(data=data_dict,\n",
    "                               iter=4000,\n",
    "                              control={'adapt_delta':1, 'max_treedepth': 12},\n",
    "                                      )\n",
    "        \n",
    "        \n",
    "        s = stan_fit.summary()\n",
    "        summary = pd.DataFrame(s['summary'], columns=s['summary_colnames'], index=s['summary_rownames'])\n",
    "        summary_head=pd.concat([summary.head(6),summary.iloc[-5:-1]]).copy()\n",
    "        display(summary_head)\n",
    "\n",
    "        results[dataset][ncells]=summary\n",
    "        arviz.plot_trace(stan_fit,['slope_before','slope_after','intercept','bp',\n",
    "                                   'before_variance','after_variance','after_over_before',\n",
    "                                   'before_over_after', 'bp_umis'])\n",
    "        plt.savefig('./results2/' + dataset+'-'+str(ncells)+'.png',format='png',dpi=200)\n",
    "        \n",
    "        \n",
    "        full_stan_results = stan_fit.to_dataframe()\n",
    "        full_stan_results.to_csv('./results2/full_stan_' + dataset+'-'+str(ncells)+'.csv')\n",
    "        summary.to_csv('./results2/summary_stan_' + dataset+'-'+str(ncells)+'.csv')\n",
    "        plt.show()\n",
    "        \n",
    "        summary_text = str(summary_head.round(3))\n",
    "        \n",
    "        extracted = stan_fit.extract()\n",
    "        plt.figure(num=None, figsize=(16, 9), dpi=80, facecolor='w', edgecolor='k')\n",
    "        plt.ylim(8, 12)\n",
    "        plt.xlim(8, 15)\n",
    "        nlines = 4000\n",
    "        for intercept,slope,breakpoint in zip(extracted['intercept'][0:nlines],extracted['slope_before'][0:nlines],extracted['bp'][0:nlines]):\n",
    "            axes = plt.gca()\n",
    "            x_vals = np.array(axes.get_xlim())\n",
    "            x_vals[1]=breakpoint\n",
    "            y_vals = intercept + slope * (x_vals-breakpoint)\n",
    "            plt.plot(x_vals, y_vals, '--', color = 'red', alpha = 0.01)\n",
    "\n",
    "        for intercept,slope,breakpoint in zip(extracted['intercept'][0:nlines],extracted['slope_after'][0:nlines],extracted['bp'][0:nlines]):\n",
    "            axes = plt.gca()\n",
    "            x_vals = np.array(axes.get_xlim())\n",
    "            x_vals[0]=breakpoint\n",
    "            y_vals = intercept + slope * (x_vals-breakpoint)\n",
    "            plt.plot(x_vals, y_vals, '-', color='green',linestyle='--', alpha = 0.002)\n",
    "            plt.axvline(x=breakpoint,linestyle='--',color='gray', alpha =0.002)\n",
    "\n",
    "            \n",
    "        # plt.scatter(df['UMIs_per_cell'],df['validation_error'], alpha = 0.25)\n",
    "        axes = plt.gca()\n",
    "        x_vals = np.array(axes.get_xlim())\n",
    "        x_vals[1]=summary_head.loc['bp']['50%']\n",
    "        y_vals = summary_head.loc['intercept']['50%'] + summary_head.loc['slope_before']['50%'] * (x_vals-summary_head.loc['bp']['50%'])\n",
    "        plt.plot(x_vals, y_vals, '-', color = 'black', alpha = 1)\n",
    "\n",
    "        x_vals = np.array(axes.get_xlim())\n",
    "        x_vals[0]=summary_head.loc['bp']['50%']\n",
    "        y_vals = summary_head.loc['intercept']['50%'] + summary_head.loc['slope_after']['50%'] * (x_vals-summary_head.loc['bp']['50%'])\n",
    "        plt.plot(x_vals, y_vals, '-', color = 'blue', alpha = 1)\n",
    "        plt.axvline(x=summary_head.loc['bp']['50%'],linestyle='--',color='black', alpha =1)\n",
    "\n",
    "        plt.scatter(np.log2(df[\"UMIs_per_cell\"]),  np.log2(df[\"validation_error\"]), color='black', alpha = 0.5, s = 10)\n",
    "\n",
    "        plt.gca().set_aspect('equal', adjustable='box')\n",
    "\n",
    "        print(plt.yticks())\n",
    "        plt.yticks([8,9,10,11,12])\n",
    "        plt.grid(True, ls = '--', alpha = 0.5)\n",
    "        plt.scatter(np.log2(df[\"UMIs_per_cell\"]),  np.log2(df[\"validation_error\"]), color='cyan', alpha = 0.5, s = 10)\n",
    "        title='Piecewise stan model \\n '+ dataset+' '+str(ncells) + ' cells \\n ' + summary_text\n",
    "        plt.title(title)\n",
    "        plt.savefig('./results2/linefits_' + dataset+'-'+str(ncells)+'.png',format='png',dpi=200)\n",
    "\n",
    "        plt.show()\n",
    "\n"
   ]
  },
  {
   "cell_type": "code",
   "execution_count": null,
   "metadata": {},
   "outputs": [],
   "source": []
  },
  {
   "cell_type": "code",
   "execution_count": null,
   "metadata": {},
   "outputs": [],
   "source": []
  },
  {
   "cell_type": "code",
   "execution_count": null,
   "metadata": {},
   "outputs": [],
   "source": []
  },
  {
   "cell_type": "code",
   "execution_count": null,
   "metadata": {},
   "outputs": [],
   "source": []
  },
  {
   "cell_type": "code",
   "execution_count": null,
   "metadata": {},
   "outputs": [],
   "source": []
  },
  {
   "cell_type": "code",
   "execution_count": null,
   "metadata": {},
   "outputs": [],
   "source": []
  },
  {
   "cell_type": "code",
   "execution_count": null,
   "metadata": {},
   "outputs": [],
   "source": []
  }
 ],
 "metadata": {
  "kernelspec": {
   "display_name": "Python 3",
   "language": "python",
   "name": "python3"
  },
  "language_info": {
   "codemirror_mode": {
    "name": "ipython",
    "version": 3
   },
   "file_extension": ".py",
   "mimetype": "text/x-python",
   "name": "python",
   "nbconvert_exporter": "python",
   "pygments_lexer": "ipython3"
  }
 },
 "nbformat": 4,
 "nbformat_minor": 4
}
