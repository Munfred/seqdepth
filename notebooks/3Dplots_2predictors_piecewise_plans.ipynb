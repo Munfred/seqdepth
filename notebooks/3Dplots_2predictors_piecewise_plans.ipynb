{
 "cells": [
  {
   "cell_type": "code",
   "execution_count": null,
   "metadata": {},
   "outputs": [],
   "source": [
    "import numpy as np\n",
    "import pandas as pd\n",
    "import pystan as ps\n",
    "import statsmodels.formula.api as smf\n",
    "import matplotlib.pyplot as plt\n",
    "import plotly.express as px\n",
    "import glob\n",
    "import arviz\n",
    "%matplotlib inline\n",
    "import tqdm\n",
    "import matplotlib\n",
    "pd.set_option('display.max_columns', None)  \n",
    "# Customize matplotlib\n",
    "matplotlib.rcParams['font.family'] = 'monospace'\n",
    "matplotlib.rcParams['font.sans-serif'] = ['Ubuntu']"
   ]
  },
  {
   "cell_type": "code",
   "execution_count": null,
   "metadata": {},
   "outputs": [],
   "source": [
    "# load the 10xv3 results with 30x sampling for each cell/depth combination\n",
    "dfs={}\n",
    "for item in glob.glob('./10xv3_final_summaries/*'):\n",
    "    dfs[item.split('/')[2].split('-final_summary.csv')[0]] = pd.read_csv(item).sort_values([\"sampled_cells\", \"total_UMIs\"], ascending = (True, True))"
   ]
  },
  {
   "cell_type": "code",
   "execution_count": null,
   "metadata": {},
   "outputs": [],
   "source": [
    "data=dfs['10x_genomics_data-neuron_1k_v3']"
   ]
  },
  {
   "cell_type": "code",
   "execution_count": null,
   "metadata": {},
   "outputs": [],
   "source": [
    "data"
   ]
  },
  {
   "cell_type": "code",
   "execution_count": null,
   "metadata": {},
   "outputs": [],
   "source": []
  },
  {
   "cell_type": "code",
   "execution_count": null,
   "metadata": {},
   "outputs": [],
   "source": []
  },
  {
   "cell_type": "code",
   "execution_count": null,
   "metadata": {},
   "outputs": [],
   "source": [
    "summary = pd.read_csv('summary_stan_2predictors_10x_genomics_data-neuron_1k_v32020-06-17_23_06_01 (1).csv', index_col = 0)\n",
    "df=pd.concat([summary.head(8),summary.iloc[-8:-1]]).copy()\n",
    "df"
   ]
  },
  {
   "cell_type": "code",
   "execution_count": null,
   "metadata": {},
   "outputs": [],
   "source": [
    "summary.head(100)"
   ]
  },
  {
   "cell_type": "code",
   "execution_count": null,
   "metadata": {},
   "outputs": [],
   "source": [
    "df"
   ]
  },
  {
   "cell_type": "code",
   "execution_count": null,
   "metadata": {},
   "outputs": [],
   "source": []
  },
  {
   "cell_type": "code",
   "execution_count": null,
   "metadata": {},
   "outputs": [],
   "source": [
    "\n",
    "data"
   ]
  },
  {
   "cell_type": "markdown",
   "metadata": {},
   "source": [
    "# plot data and fit piecewise planes"
   ]
  },
  {
   "cell_type": "code",
   "execution_count": null,
   "metadata": {},
   "outputs": [],
   "source": [
    "ds='10x_genomics_data-neuron_1k_v3'\n",
    "\n",
    "dfs[ds]['log_estimates_UMIs']=np.log(dfs[ds]['estimated_UMIs'])\n",
    "fig = px.scatter_3d(dfs[ds], x='UMIs_per_cell', y='sampled_cells', z='validation_error',\n",
    "                    log_z=True, log_y =True, log_x=True, color='log_estimates_UMIs', opacity = 0.4,size_max=18, \n",
    "                    height = 600, width = 1000, title = ds)\n",
    "fig.show()"
   ]
  },
  {
   "cell_type": "code",
   "execution_count": null,
   "metadata": {},
   "outputs": [],
   "source": [
    "data['log2_cells']=np.log2(data['sampled_cells'])\n",
    "data['log2_error']=np.log2(data['validation_error'])\n",
    "data['log2_umis_per_cell']=np.log2(data['UMIs_per_cell'])\n",
    "data['log2_reads_per_cell']=np.log2(data['reads_per_cell'])\n",
    "data['log2_total_umis']=np.log2(data['total_UMIs'])\n",
    "\n",
    "data"
   ]
  },
  {
   "cell_type": "code",
   "execution_count": null,
   "metadata": {},
   "outputs": [],
   "source": [
    "data.describe()"
   ]
  },
  {
   "cell_type": "code",
   "execution_count": null,
   "metadata": {},
   "outputs": [],
   "source": [
    "### ds='10x_genomics_data-neuron_1k_v3'\n",
    "\n",
    "dfs[ds]['log_estimates_UMIs']=np.log(dfs[ds]['estimated_UMIs'])\n",
    "fig = px.scatter_3d(dfs[ds], x='log2_umis_per_cell', y='log2_cells', z='log2_error',\n",
    "                    log_z=False, log_y =False, log_x=False, color='log_estimates_UMIs', opacity = 0.4,size_max=4, \n",
    "                    height = 600, width = 1000, title = ds)\n",
    "fig.update_layout(\n",
    "    scene = dict(\n",
    "         xaxis = dict(nticks=4, range=[8,15],),\n",
    "         yaxis = dict(nticks=4, range=[8,15],),\n",
    "         zaxis = dict(nticks=4, range=[8,15],),),\n",
    "    width=700,\n",
    "    margin=dict(r=20, l=10, b=10, t=10))\n",
    "fig.show()"
   ]
  },
  {
   "cell_type": "code",
   "execution_count": null,
   "metadata": {},
   "outputs": [],
   "source": [
    "df"
   ]
  },
  {
   "cell_type": "code",
   "execution_count": null,
   "metadata": {},
   "outputs": [],
   "source": [
    "bp = df.loc['bp']['50%']\n",
    "umi_slope_after = df.loc['umi_slope_after']['50%']\n",
    "umi_slope_before = df.loc['umi_slope_before']['50%']\n",
    "cell_slope_before = df.loc['cell_slope_before']['50%']\n",
    "cell_slope_after = df.loc['cell_slope_after']['50%']\n",
    "intercept = df.loc['intercept']['50%']\n"
   ]
  },
  {
   "cell_type": "code",
   "execution_count": null,
   "metadata": {},
   "outputs": [],
   "source": [
    "data"
   ]
  },
  {
   "cell_type": "code",
   "execution_count": null,
   "metadata": {},
   "outputs": [],
   "source": [
    "data['log2_umis_per_cell']\n",
    "data['log2_cells']"
   ]
  },
  {
   "cell_type": "code",
   "execution_count": null,
   "metadata": {},
   "outputs": [],
   "source": [
    "derp = data[['log2_umis_per_cell','log2_cells']].drop_duplicates()\n",
    "derp.drop_duplicates()"
   ]
  },
  {
   "cell_type": "code",
   "execution_count": null,
   "metadata": {},
   "outputs": [],
   "source": [
    "%pylab\n",
    "bp = df.loc['bp']['50%']\n",
    "umi_slope_after = df.loc['umi_slope_after']['50%']\n",
    "umi_slope_before = df.loc['umi_slope_before']['50%']\n",
    "cell_slope_before = df.loc['cell_slope_before']['50%']\n",
    "cell_slope_after = df.loc['cell_slope_after']['50%']\n",
    "intercept = df.loc['intercept']['50%']\n",
    "\n",
    "\n",
    "import matplotlib.pyplot as plt\n",
    "\n",
    "x = np.arange(-11, 15, 0.1)\n",
    "y = np.arange(-11, 15, 0.1)\n",
    "xx, yy = np.meshgrid(x, y, sparse=True)\n",
    "z = np.sin(xx**2 + yy**2) / (xx**2 + yy**2)\n",
    "\n",
    "for i, xi, in enumerate(x):\n",
    "    for j, yj in enumerate(y):\n",
    "        if yj/xi < bp:     \n",
    "            z[i][j]= umi_slope_before * yj + cell_slope_before * xi \n",
    "        else:\n",
    "            z[i][j]= cell_slope_after * yj + umi_slope_after * xi \n",
    "            \n",
    "        \n",
    "# z = np.zeros([100,100])\n",
    "h = plt.contourf(x,y,z)\n",
    "derp = data[['log2_umis_per_cell','log2_cells']].drop_duplicates()\n",
    "\n",
    "plt.scatter(derp['log2_umis_per_cell'], derp['log2_cells'], c = 'red', alpha = 0.5)\n",
    "plt.show()"
   ]
  },
  {
   "cell_type": "code",
   "execution_count": null,
   "metadata": {},
   "outputs": [],
   "source": [
    "xx"
   ]
  },
  {
   "cell_type": "code",
   "execution_count": null,
   "metadata": {},
   "outputs": [],
   "source": [
    "xx.shape"
   ]
  },
  {
   "cell_type": "code",
   "execution_count": null,
   "metadata": {},
   "outputs": [],
   "source": [
    "z"
   ]
  },
  {
   "cell_type": "code",
   "execution_count": null,
   "metadata": {},
   "outputs": [],
   "source": [
    "data.applymap(np.log2())"
   ]
  },
  {
   "cell_type": "code",
   "execution_count": null,
   "metadata": {},
   "outputs": [],
   "source": []
  },
  {
   "cell_type": "code",
   "execution_count": null,
   "metadata": {},
   "outputs": [],
   "source": []
  },
  {
   "cell_type": "code",
   "execution_count": null,
   "metadata": {
    "jupyter": {
     "outputs_hidden": true
    }
   },
   "outputs": [],
   "source": [
    "import plotly.graph_objects as go\n",
    "import numpy as np\n",
    "\n",
    "fig = go.Figure(data=[\n",
    "    go.Mesh3d(\n",
    "        # 8 vertices of a cube\n",
    "        x=[0, 0, 1, 1, 0, 0, 1, 1],\n",
    "        y=[0, 1, 1, 0, 0, 1, 1, 0],\n",
    "        z=[0, 0, 0, 0, 1, 1, 1, 1],\n",
    "        colorbar_title='z',\n",
    "        colorscale=[[0, 'gold'],\n",
    "                    [0.5, 'mediumturquoise'],\n",
    "                    [1, 'magenta']],\n",
    "        # Intensity of each vertex, which will be interpolated and color-coded\n",
    "        intensity = np.linspace(0, 1, 8, endpoint=True),\n",
    "        # i, j and k give the vertices of triangles\n",
    "        i = [7, 0, 0, 0, 4, 4, 6, 6, 4, 0, 3, 2],\n",
    "        j = [3, 4, 1, 2, 5, 6, 5, 2, 0, 1, 6, 3],\n",
    "        k = [0, 7, 2, 3, 6, 7, 1, 1, 5, 5, 7, 6],\n",
    "        name='y',\n",
    "        showscale=True\n",
    "    )\n",
    "])\n",
    "\n",
    "fig.show()"
   ]
  },
  {
   "cell_type": "code",
   "execution_count": null,
   "metadata": {},
   "outputs": [],
   "source": [
    "data.describe()"
   ]
  },
  {
   "cell_type": "code",
   "execution_count": null,
   "metadata": {},
   "outputs": [],
   "source": [
    "data2=np.log2(data)\n",
    "data"
   ]
  },
  {
   "cell_type": "code",
   "execution_count": null,
   "metadata": {},
   "outputs": [],
   "source": [
    "df"
   ]
  },
  {
   "cell_type": "code",
   "execution_count": null,
   "metadata": {},
   "outputs": [],
   "source": [
    "z_data"
   ]
  },
  {
   "cell_type": "code",
   "execution_count": null,
   "metadata": {
    "jupyter": {
     "outputs_hidden": true
    }
   },
   "outputs": [],
   "source": [
    "go.Surface?"
   ]
  },
  {
   "cell_type": "code",
   "execution_count": null,
   "metadata": {},
   "outputs": [],
   "source": [
    "import plotly.graph_objects as go\n",
    "import numpy as np\n",
    "\n",
    "z1 = np.array([\n",
    "    [8.83,8.89,8.81,8.87,8.9,8.87],\n",
    "    [8.89,8.94,8.85,8.94,8.96,8.92],\n",
    "    [8.84,8.9,8.82,8.92,8.93,8.91],\n",
    "    [8.79,8.85,8.79,8.9,8.94,8.92],\n",
    "    [8.79,8.88,8.81,8.9,8.95,8.92],\n",
    "    [8.8,8.82,8.78,8.91,8.94,8.92],\n",
    "    [8.75,8.78,8.77,8.91,8.95,8.92],\n",
    "    [8.8,8.8,8.77,8.91,8.95,8.94],\n",
    "    [8.74,8.81,8.76,8.93,8.98,8.99],\n",
    "    [8.89,8.99,8.92,9.1,9.13,9.11],\n",
    "    [8.97,8.97,8.91,9.09,9.11,9.11],\n",
    "    [9.04,9.08,9.05,9.25,9.28,9.27],\n",
    "    [9,9.01,9,9.2,9.23,9.2],\n",
    "    [8.99,8.99,8.98,9.18,9.2,9.19],\n",
    "    [8.93,8.97,8.97,9.18,9.2,9.18]\n",
    "])\n",
    "\n",
    "z2 = z1 + 1\n",
    "z3 = z1 - 1\n",
    "\n",
    "fig = go.Figure(data=[\n",
    "    go.Surface(z=z1),\n",
    "    go.Surface(z=z2, showscale=False, opacity=0.5, colorscale=\"Rainbow\"),\n",
    "    go.Surface(z=z3, showscale=False, opacity=0.1, colorscale=\"Viridis\")\n",
    "\n",
    "])\n",
    "\n",
    "fig.show()"
   ]
  },
  {
   "cell_type": "code",
   "execution_count": null,
   "metadata": {
    "jupyter": {
     "outputs_hidden": true
    }
   },
   "outputs": [],
   "source": [
    "go.Surface?"
   ]
  },
  {
   "cell_type": "code",
   "execution_count": null,
   "metadata": {},
   "outputs": [],
   "source": []
  }
 ],
 "metadata": {
  "kernelspec": {
   "display_name": "Python 3",
   "language": "python",
   "name": "python3"
  },
  "language_info": {
   "codemirror_mode": {
    "name": "ipython",
    "version": 3
   },
   "file_extension": ".py",
   "mimetype": "text/x-python",
   "name": "python",
   "nbconvert_exporter": "python",
   "pygments_lexer": "ipython3"
  }
 },
 "nbformat": 4,
 "nbformat_minor": 4
}
